{
 "cells": [
  {
   "cell_type": "code",
   "execution_count": 41,
   "metadata": {},
   "outputs": [],
   "source": [
    "import pandas as pd\n",
    "import numpy as np"
   ]
  },
  {
   "cell_type": "code",
   "execution_count": 3,
   "metadata": {},
   "outputs": [],
   "source": [
    "df = pd.read_csv('C:/Users/Hanning Su/Desktop/5yr_patent_citation_dataset/patent_abs_tit_cit_ranked.csv',index_col='date')"
   ]
  },
  {
   "cell_type": "code",
   "execution_count": 5,
   "metadata": {},
   "outputs": [
    {
     "data": {
      "text/html": [
       "<div>\n",
       "<style scoped>\n",
       "    .dataframe tbody tr th:only-of-type {\n",
       "        vertical-align: middle;\n",
       "    }\n",
       "\n",
       "    .dataframe tbody tr th {\n",
       "        vertical-align: top;\n",
       "    }\n",
       "\n",
       "    .dataframe thead th {\n",
       "        text-align: right;\n",
       "    }\n",
       "</style>\n",
       "<table border=\"1\" class=\"dataframe\">\n",
       "  <thead>\n",
       "    <tr style=\"text-align: right;\">\n",
       "      <th></th>\n",
       "      <th>patent_id</th>\n",
       "      <th>abstract</th>\n",
       "      <th>title</th>\n",
       "      <th>five_year_fcite</th>\n",
       "      <th>subsection_id</th>\n",
       "      <th>top1pct_label</th>\n",
       "      <th>top10pct_label</th>\n",
       "      <th>btm90_lst1_label</th>\n",
       "      <th>zero_cite_label</th>\n",
       "    </tr>\n",
       "    <tr>\n",
       "      <th>date</th>\n",
       "      <th></th>\n",
       "      <th></th>\n",
       "      <th></th>\n",
       "      <th></th>\n",
       "      <th></th>\n",
       "      <th></th>\n",
       "      <th></th>\n",
       "      <th></th>\n",
       "      <th></th>\n",
       "    </tr>\n",
       "  </thead>\n",
       "  <tbody>\n",
       "    <tr>\n",
       "      <th>1976-01-06</th>\n",
       "      <td>3930271</td>\n",
       "      <td>A golf glove is disclosed having an extra fing...</td>\n",
       "      <td>Golf glove</td>\n",
       "      <td>0</td>\n",
       "      <td>A63</td>\n",
       "      <td>0</td>\n",
       "      <td>0</td>\n",
       "      <td>0</td>\n",
       "      <td>1</td>\n",
       "    </tr>\n",
       "    <tr>\n",
       "      <th>1976-01-06</th>\n",
       "      <td>3930272</td>\n",
       "      <td>A lock for a height-adjustable crib or playpen...</td>\n",
       "      <td>Crib leg lock</td>\n",
       "      <td>0</td>\n",
       "      <td>A47</td>\n",
       "      <td>0</td>\n",
       "      <td>0</td>\n",
       "      <td>0</td>\n",
       "      <td>1</td>\n",
       "    </tr>\n",
       "    <tr>\n",
       "      <th>1976-01-06</th>\n",
       "      <td>3930273</td>\n",
       "      <td>A bed safety side rail arrangement which inclu...</td>\n",
       "      <td>Bed safety side rail arrangement</td>\n",
       "      <td>4</td>\n",
       "      <td>A61</td>\n",
       "      <td>0</td>\n",
       "      <td>0</td>\n",
       "      <td>1</td>\n",
       "      <td>0</td>\n",
       "    </tr>\n",
       "    <tr>\n",
       "      <th>1976-01-06</th>\n",
       "      <td>3930274</td>\n",
       "      <td>The assembly includes a longitudinal axis and ...</td>\n",
       "      <td>Assembly for use in recreational activities</td>\n",
       "      <td>0</td>\n",
       "      <td>B63</td>\n",
       "      <td>0</td>\n",
       "      <td>0</td>\n",
       "      <td>0</td>\n",
       "      <td>1</td>\n",
       "    </tr>\n",
       "    <tr>\n",
       "      <th>1976-01-06</th>\n",
       "      <td>3930275</td>\n",
       "      <td>A novel slipper and its method of fabrication ...</td>\n",
       "      <td>Method of fabricating a slipper</td>\n",
       "      <td>0</td>\n",
       "      <td>A43</td>\n",
       "      <td>0</td>\n",
       "      <td>0</td>\n",
       "      <td>0</td>\n",
       "      <td>1</td>\n",
       "    </tr>\n",
       "    <tr>\n",
       "      <th>1976-01-06</th>\n",
       "      <td>3930276</td>\n",
       "      <td>An automobile conveyor for use in conjunction ...</td>\n",
       "      <td>Wheel spinning and vehicle conveying apparatus...</td>\n",
       "      <td>0</td>\n",
       "      <td>B60</td>\n",
       "      <td>0</td>\n",
       "      <td>0</td>\n",
       "      <td>0</td>\n",
       "      <td>1</td>\n",
       "    </tr>\n",
       "    <tr>\n",
       "      <th>1976-01-06</th>\n",
       "      <td>3930277</td>\n",
       "      <td>A Mobile Floor Sweeper including a rotatable c...</td>\n",
       "      <td>Mobile floor sweeper</td>\n",
       "      <td>0</td>\n",
       "      <td>E01</td>\n",
       "      <td>0</td>\n",
       "      <td>0</td>\n",
       "      <td>0</td>\n",
       "      <td>1</td>\n",
       "    </tr>\n",
       "    <tr>\n",
       "      <th>1976-01-06</th>\n",
       "      <td>3930278</td>\n",
       "      <td>A device for removable attachment to a paintbr...</td>\n",
       "      <td>Paintbrush and guard attachment for edging</td>\n",
       "      <td>0</td>\n",
       "      <td>B44</td>\n",
       "      <td>0</td>\n",
       "      <td>0</td>\n",
       "      <td>0</td>\n",
       "      <td>1</td>\n",
       "    </tr>\n",
       "    <tr>\n",
       "      <th>1976-01-06</th>\n",
       "      <td>3930279</td>\n",
       "      <td>A rubber windshield wiper blade is clamped to ...</td>\n",
       "      <td>Rubber windshield wiper blades having increase...</td>\n",
       "      <td>1</td>\n",
       "      <td>B60</td>\n",
       "      <td>0</td>\n",
       "      <td>0</td>\n",
       "      <td>1</td>\n",
       "      <td>0</td>\n",
       "    </tr>\n",
       "    <tr>\n",
       "      <th>1976-01-06</th>\n",
       "      <td>3930280</td>\n",
       "      <td>Leaks are precluded in product containers with...</td>\n",
       "      <td>Bottle insert for product container</td>\n",
       "      <td>1</td>\n",
       "      <td>A45</td>\n",
       "      <td>0</td>\n",
       "      <td>0</td>\n",
       "      <td>1</td>\n",
       "      <td>0</td>\n",
       "    </tr>\n",
       "  </tbody>\n",
       "</table>\n",
       "</div>"
      ],
      "text/plain": [
       "            patent_id                                           abstract  \\\n",
       "date                                                                       \n",
       "1976-01-06    3930271  A golf glove is disclosed having an extra fing...   \n",
       "1976-01-06    3930272  A lock for a height-adjustable crib or playpen...   \n",
       "1976-01-06    3930273  A bed safety side rail arrangement which inclu...   \n",
       "1976-01-06    3930274  The assembly includes a longitudinal axis and ...   \n",
       "1976-01-06    3930275  A novel slipper and its method of fabrication ...   \n",
       "1976-01-06    3930276  An automobile conveyor for use in conjunction ...   \n",
       "1976-01-06    3930277  A Mobile Floor Sweeper including a rotatable c...   \n",
       "1976-01-06    3930278  A device for removable attachment to a paintbr...   \n",
       "1976-01-06    3930279  A rubber windshield wiper blade is clamped to ...   \n",
       "1976-01-06    3930280  Leaks are precluded in product containers with...   \n",
       "\n",
       "                                                        title  \\\n",
       "date                                                            \n",
       "1976-01-06                                         Golf glove   \n",
       "1976-01-06                                      Crib leg lock   \n",
       "1976-01-06                   Bed safety side rail arrangement   \n",
       "1976-01-06        Assembly for use in recreational activities   \n",
       "1976-01-06                    Method of fabricating a slipper   \n",
       "1976-01-06  Wheel spinning and vehicle conveying apparatus...   \n",
       "1976-01-06                               Mobile floor sweeper   \n",
       "1976-01-06         Paintbrush and guard attachment for edging   \n",
       "1976-01-06  Rubber windshield wiper blades having increase...   \n",
       "1976-01-06                Bottle insert for product container   \n",
       "\n",
       "            five_year_fcite subsection_id  top1pct_label  top10pct_label  \\\n",
       "date                                                                       \n",
       "1976-01-06                0           A63              0               0   \n",
       "1976-01-06                0           A47              0               0   \n",
       "1976-01-06                4           A61              0               0   \n",
       "1976-01-06                0           B63              0               0   \n",
       "1976-01-06                0           A43              0               0   \n",
       "1976-01-06                0           B60              0               0   \n",
       "1976-01-06                0           E01              0               0   \n",
       "1976-01-06                0           B44              0               0   \n",
       "1976-01-06                1           B60              0               0   \n",
       "1976-01-06                1           A45              0               0   \n",
       "\n",
       "            btm90_lst1_label  zero_cite_label  \n",
       "date                                           \n",
       "1976-01-06                 0                1  \n",
       "1976-01-06                 0                1  \n",
       "1976-01-06                 1                0  \n",
       "1976-01-06                 0                1  \n",
       "1976-01-06                 0                1  \n",
       "1976-01-06                 0                1  \n",
       "1976-01-06                 0                1  \n",
       "1976-01-06                 0                1  \n",
       "1976-01-06                 1                0  \n",
       "1976-01-06                 1                0  "
      ]
     },
     "execution_count": 5,
     "metadata": {},
     "output_type": "execute_result"
    }
   ],
   "source": [
    "df.head(10)"
   ]
  },
  {
   "cell_type": "code",
   "execution_count": 15,
   "metadata": {},
   "outputs": [
    {
     "name": "stdout",
     "output_type": "stream",
     "text": [
      "5159188\n"
     ]
    }
   ],
   "source": [
    "print(len(df)) # The dataset has 5159188 observations"
   ]
  },
  {
   "cell_type": "code",
   "execution_count": 49,
   "metadata": {},
   "outputs": [
    {
     "data": {
      "image/png": "[encoded data removed]",
      "text/plain": [
       "<Figure size 1152x432 with 1 Axes>"
      ]
     },
     "metadata": {
      "needs_background": "light"
     },
     "output_type": "display_data"
    }
   ],
   "source": [
    "import matplotlib.pyplot as plt\n",
    "plt.figure(figsize=(16, 6))\n",
    "plt.hist(df[\"five_year_fcite\"], bins = 30)\n",
    "plt.show()"
   ]
  },
  {
   "cell_type": "markdown",
   "metadata": {},
   "source": [
    "As expected, patent citation has highly skewed distribution, with majority of observations with close to zero citations during five year interval after grant date. In ordre to better visualize the data, we take log(x + 1) transformation and plot again."
   ]
  },
  {
   "cell_type": "code",
   "execution_count": 52,
   "metadata": {},
   "outputs": [
    {
     "data": {
      "image/png": "[encoded data removed]",
      "text/plain": [
       "<Figure size 1152x432 with 1 Axes>"
      ]
     },
     "metadata": {
      "needs_background": "light"
     },
     "output_type": "display_data"
    }
   ],
   "source": [
    "import matplotlib.pyplot as plt\n",
    "plt.figure(figsize=(16, 6))\n",
    "plt.hist(np.log(df[\"five_year_fcite\"] + 1), bins = 30)\n",
    "plt.show()"
   ]
  },
  {
   "cell_type": "markdown",
   "metadata": {},
   "source": [
    "Next we check the citation level indictors calculated based on the percentile of the distribution of five_year_fcite varaible."
   ]
  },
  {
   "cell_type": "code",
   "execution_count": 57,
   "metadata": {},
   "outputs": [
    {
     "name": "stdout",
     "output_type": "stream",
     "text": [
      "54274\n",
      "0.010519872507068942\n"
     ]
    }
   ],
   "source": [
    "print(np.sum(df['top1pct_label']))\n",
    "\n",
    "print(np.sum(df['top1pct_label']) / len(df))"
   ]
  },
  {
   "cell_type": "markdown",
   "metadata": {},
   "source": [
    "We have 54274 patents with citation count higher than about 99% of other patent in the their respective technology class."
   ]
  },
  {
   "cell_type": "code",
   "execution_count": 58,
   "metadata": {},
   "outputs": [
    {
     "name": "stdout",
     "output_type": "stream",
     "text": [
      "533654\n",
      "0.10343759521847236\n"
     ]
    }
   ],
   "source": [
    "print(np.sum(df['top10pct_label']))\n",
    "\n",
    "print(np.sum(df['top10pct_label']) / len(df))"
   ]
  },
  {
   "cell_type": "markdown",
   "metadata": {},
   "source": [
    "We have 533654 patents with citation count higher than about 90% of other patent in the their respective technology class."
   ]
  },
  {
   "cell_type": "code",
   "execution_count": 59,
   "metadata": {},
   "outputs": [
    {
     "name": "stdout",
     "output_type": "stream",
     "text": [
      "2943457\n",
      "0.5705271837351149\n"
     ]
    }
   ],
   "source": [
    "print(np.sum(df['btm90_lst1_label']))\n",
    "\n",
    "print(np.sum(df['btm90_lst1_label']) / len(df))"
   ]
  },
  {
   "cell_type": "code",
   "execution_count": 60,
   "metadata": {},
   "outputs": [
    {
     "name": "stdout",
     "output_type": "stream",
     "text": [
      "1627803\n",
      "0.31551534853934377\n"
     ]
    }
   ],
   "source": [
    "print(np.sum(df['zero_cite_label']))\n",
    "\n",
    "print(np.sum(df['zero_cite_label']) / len(df))"
   ]
  },
  {
   "cell_type": "markdown",
   "metadata": {},
   "source": [
    "We have 2943457 + 1627803 patents with citation count in the bottom 90% group. Those that have not yet receive any citations have their own label \"zero_cite_label\"."
   ]
  }
 ],
 "metadata": {
  "kernelspec": {
   "display_name": "Python 3",
   "language": "python",
   "name": "python3"
  },
  "language_info": {
   "codemirror_mode": {
    "name": "ipython",
    "version": 3
   },
   "file_extension": ".py",
   "mimetype": "text/x-python",
   "name": "python",
   "nbconvert_exporter": "python",
   "pygments_lexer": "ipython3",
   "version": "3.8.5"
  }
 },
 "nbformat": 4,
 "nbformat_minor": 4
}
